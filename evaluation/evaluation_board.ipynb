{
 "cells": [
  {
   "cell_type": "code",
   "execution_count": 2,
   "metadata": {},
   "outputs": [
    {
     "name": "stdout",
     "output_type": "stream",
     "text": [
      "0.27374200552477146\n",
      "0.28372681760562346\n"
     ]
    }
   ],
   "source": [
    "import json\n",
    "\n",
    "jsonl_file = '/home/jewon/code/eagle_medusa/EAGLE/evaluation/data/mt_bench/model_answer/repro_weight_epoch_12/ess-llama-2-chat-70b-fp16-temperature-0.0_orig_weight_chain_4.jsonl'\n",
    "data = []\n",
    "with open(jsonl_file, 'r', encoding='utf-8') as file:\n",
    "    for line in file:\n",
    "        json_obj = json.loads(line)\n",
    "        data.append(json_obj)\n",
    "        \n",
    "ar = []\n",
    "ar_2 = []\n",
    "for i in range(len(data)):\n",
    "    _ar = data[i]['choices'][0]['ar'][0]\n",
    "    _ar_2 = data[i]['choices'][0]['ar'][1]\n",
    "    ar.append(_ar)\n",
    "    ar_2.append(_ar_2)\n",
    "    \n",
    "print(sum(ar)/len(ar))\n",
    "print(sum(ar_2)/len(ar_2))"
   ]
  },
  {
   "cell_type": "code",
   "execution_count": 3,
   "metadata": {},
   "outputs": [],
   "source": [
    "def calc_tok_per_sec(path):\n",
    "    with open(path, \"r\") as file:\n",
    "        data = [json.loads(line) for line in file.readlines()]\n",
    "    tok_per_sec_1 = []\n",
    "    tok_per_sec_2 = []\n",
    "    for i in range(len(data)):\n",
    "        _wall_time_1 = data[i]['choices'][0]['wall_time'][0]\n",
    "        _wall_time_2 = data[i]['choices'][0]['wall_time'][1]\n",
    "        _len_token_1 = data[i]['choices'][0]['new_tokens'][0]\n",
    "        _len_toekn_2 = data[i]['choices'][0]['new_tokens'][1]\n",
    "        _tok_per_sec_1 = _len_token_1 / _wall_time_1\n",
    "        _tok_per_sec_2 = _len_toekn_2 / _wall_time_2\n",
    "        tok_per_sec_1.append(_tok_per_sec_1)\n",
    "        tok_per_sec_2.append(_tok_per_sec_2)\n",
    "    tok_per_sec_1 = sum(tok_per_sec_1) / len(tok_per_sec_1)\n",
    "    tok_per_sec_2 = sum(tok_per_sec_2) / len(tok_per_sec_2)\n",
    "    \n",
    "    return (tok_per_sec_1+tok_per_sec_2)/2"
   ]
  },
  {
   "cell_type": "code",
   "execution_count": 4,
   "metadata": {},
   "outputs": [
    {
     "data": {
      "text/plain": [
       "26.901608482958736"
      ]
     },
     "execution_count": 4,
     "metadata": {},
     "output_type": "execute_result"
    }
   ],
   "source": [
    "calc_tok_per_sec(\"/home/jewon/code/eagle_medusa/EAGLE/evaluation/data/mt_bench/model_answer/repro_weight_epoch_12/ess-llama-2-chat-70b-fp16-temperature-0.0_orig_weight_tree.jsonl\")"
   ]
  },
  {
   "cell_type": "code",
   "execution_count": 5,
   "metadata": {},
   "outputs": [
    {
     "data": {
      "text/plain": [
       "18.4439617476236"
      ]
     },
     "execution_count": 5,
     "metadata": {},
     "output_type": "execute_result"
    }
   ],
   "source": [
    "calc_tok_per_sec(\"/home/jewon/code/eagle_medusa/EAGLE/evaluation/data/mt_bench/model_answer/repro_weight_epoch_12/ess-llama-2-chat-70b-fp16-temperature-0.0_orig_weight_chain_4.jsonl\")"
   ]
  },
  {
   "cell_type": "code",
   "execution_count": 17,
   "metadata": {},
   "outputs": [
    {
     "data": {
      "text/plain": [
       "22.332142086534567"
      ]
     },
     "execution_count": 17,
     "metadata": {},
     "output_type": "execute_result"
    }
   ],
   "source": [
    "calc_tok_per_sec(\"/home/jewon/code/eagle_medusa/EAGLE/evaluation/data/mt_bench/model_answer/layer_2_test/ess-llama-2-chat-70b-fp16-temperature-0.0_chain.jsonl\")"
   ]
  },
  {
   "cell_type": "code",
   "execution_count": 20,
   "metadata": {},
   "outputs": [
    {
     "name": "stdout",
     "output_type": "stream",
     "text": [
      "0.39666291978658097\n",
      "0.4252928337126801\n"
     ]
    }
   ],
   "source": [
    "import json\n",
    "\n",
    "jsonl_file = '/home/jewon/code/eagle_medusa/EAGLE/evaluation/data/mt_bench/model_answer/layer_2_test/ess-llama-2-chat-70b-fp16-temperature-0.0_layer1_baseline.jsonl'\n",
    "data = []\n",
    "with open(jsonl_file, 'r', encoding='utf-8') as file:\n",
    "    for line in file:\n",
    "        json_obj = json.loads(line)\n",
    "        data.append(json_obj)\n",
    "        \n",
    "ar = []\n",
    "ar_2 = []\n",
    "for i in range(len(data)):\n",
    "    _ar = data[i]['choices'][0]['ar'][0]\n",
    "    _ar_2 = data[i]['choices'][0]['ar'][1]\n",
    "    ar.append(_ar)\n",
    "    ar_2.append(_ar_2)\n",
    "\n",
    "print(sum(ar)/len(ar))\n",
    "print(sum(ar_2)/len(ar_2))"
   ]
  },
  {
   "cell_type": "code",
   "execution_count": 24,
   "metadata": {},
   "outputs": [
    {
     "data": {
      "text/plain": [
       "0.4128247928455533"
      ]
     },
     "execution_count": 24,
     "metadata": {},
     "output_type": "execute_result"
    }
   ],
   "source": [
    "(0.3936134745392672 + 0.4320361111518394)/2"
   ]
  },
  {
   "cell_type": "code",
   "execution_count": 21,
   "metadata": {},
   "outputs": [
    {
     "name": "stdout",
     "output_type": "stream",
     "text": [
      "0.3936134745392672\n",
      "0.4320361111518394\n"
     ]
    }
   ],
   "source": [
    "import json\n",
    "\n",
    "jsonl_file = '/home/jewon/code/eagle_medusa/EAGLE/evaluation/data/mt_bench/model_answer/layer_2_test/ess-llama-2-chat-70b-fp16-temperature-0.0_chain.jsonl'\n",
    "data = []\n",
    "with open(jsonl_file, 'r', encoding='utf-8') as file:\n",
    "    for line in file:\n",
    "        json_obj = json.loads(line)\n",
    "        data.append(json_obj)\n",
    "        \n",
    "ar = []\n",
    "ar_2 = []\n",
    "for i in range(len(data)):\n",
    "    _ar = data[i]['choices'][0]['ar'][0]\n",
    "    _ar_2 = data[i]['choices'][0]['ar'][1]\n",
    "    ar.append(_ar)\n",
    "    ar_2.append(_ar_2)\n",
    "\n",
    "print(sum(ar)/len(ar))\n",
    "print(sum(ar_2)/len(ar_2))"
   ]
  },
  {
   "cell_type": "code",
   "execution_count": 15,
   "metadata": {},
   "outputs": [],
   "source": [
    "def calc_tok_per_sec(path):\n",
    "    with open(path, \"r\") as file:\n",
    "        data = [json.loads(line) for line in file.readlines()]\n",
    "    tok_per_sec_1 = []\n",
    "    tok_per_sec_2 = []\n",
    "    for i in range(len(data)):\n",
    "        _wall_time_1 = data[i]['choices'][0]['wall_time'][0]\n",
    "        _wall_time_2 = data[i]['choices'][0]['wall_time'][1]\n",
    "        _len_token_1 = data[i]['choices'][0]['new_tokens'][0]\n",
    "        _len_toekn_2 = data[i]['choices'][0]['new_tokens'][1]\n",
    "        _tok_per_sec_1 = _len_token_1 / _wall_time_1\n",
    "        _tok_per_sec_2 = _len_toekn_2 / _wall_time_2\n",
    "        tok_per_sec_1.append(_tok_per_sec_1)\n",
    "        tok_per_sec_2.append(_tok_per_sec_2)\n",
    "    tok_per_sec_1 = sum(tok_per_sec_1) / len(tok_per_sec_1)\n",
    "    tok_per_sec_2 = sum(tok_per_sec_2) / len(tok_per_sec_2)\n",
    "    \n",
    "    return (tok_per_sec_1+tok_per_sec_2)/2"
   ]
  },
  {
   "cell_type": "code",
   "execution_count": 18,
   "metadata": {},
   "outputs": [
    {
     "data": {
      "text/plain": [
       "23.4363670898491"
      ]
     },
     "execution_count": 18,
     "metadata": {},
     "output_type": "execute_result"
    }
   ],
   "source": [
    "calc_tok_per_sec(jsonl_file)"
   ]
  },
  {
   "cell_type": "code",
   "execution_count": 19,
   "metadata": {},
   "outputs": [
    {
     "data": {
      "text/plain": [
       "22.332142086534567"
      ]
     },
     "execution_count": 19,
     "metadata": {},
     "output_type": "execute_result"
    }
   ],
   "source": [
    "calc_tok_per_sec(\"/home/jewon/code/eagle_medusa/EAGLE/evaluation/data/mt_bench/model_answer/layer_2_test/ess-llama-2-chat-70b-fp16-temperature-0.0_chain.jsonl\")"
   ]
  },
  {
   "cell_type": "code",
   "execution_count": 11,
   "metadata": {},
   "outputs": [],
   "source": [
    "import torch\n",
    "\n",
    "safetensor_path = \"/ssd0/checkpoints/fast-llm/eagle_epoch20/state_11/model.safetensors\""
   ]
  },
  {
   "cell_type": "code",
   "execution_count": 12,
   "metadata": {},
   "outputs": [],
   "source": [
    "from safetensors.torch import load_file\n",
    "\n",
    "state_dict_safe =load_file(safetensor_path)"
   ]
  },
  {
   "cell_type": "code",
   "execution_count": 25,
   "metadata": {},
   "outputs": [
    {
     "data": {
      "text/plain": [
       "tensor([[-0.0003, -0.0083,  0.0059,  ...,  0.0033,  0.0092,  0.0090],\n",
       "        [ 0.0005, -0.0101, -0.0004,  ...,  0.0004, -0.0131,  0.0028],\n",
       "        [ 0.0029,  0.0003, -0.0055,  ...,  0.0057, -0.0079, -0.0034],\n",
       "        ...,\n",
       "        [ 0.0117,  0.0126, -0.0001,  ...,  0.0069,  0.0047,  0.0059],\n",
       "        [ 0.0087,  0.0086,  0.0054,  ...,  0.0053, -0.0049, -0.0020],\n",
       "        [ 0.0047, -0.0074,  0.0052,  ..., -0.0066, -0.0057,  0.0088]])"
      ]
     },
     "execution_count": 25,
     "metadata": {},
     "output_type": "execute_result"
    }
   ],
   "source": [
    "state_dict_safe['layers.0.self_attn.q_proj.weight']"
   ]
  },
  {
   "cell_type": "code",
   "execution_count": 22,
   "metadata": {},
   "outputs": [],
   "source": [
    "bin_file_path =\"/home/jewon/.cache/huggingface/hub/models--yuhuili--EAGLE-llama2-chat-70B/blobs/433360013286bf2ffd77632086047ced0286251604b53a77f68058e508b2f28f\""
   ]
  },
  {
   "cell_type": "code",
   "execution_count": 23,
   "metadata": {},
   "outputs": [],
   "source": [
    "state_dict = torch.load(bin_file_path)"
   ]
  },
  {
   "cell_type": "code",
   "execution_count": 24,
   "metadata": {},
   "outputs": [
    {
     "data": {
      "text/plain": [
       "tensor([[ 0.0111, -0.0071, -0.0141,  ..., -0.0042, -0.0127,  0.0082],\n",
       "        [ 0.0023, -0.0078,  0.0126,  ..., -0.0122, -0.0127, -0.0020],\n",
       "        [-0.0049,  0.0177, -0.0022,  ...,  0.0110,  0.0057,  0.0073],\n",
       "        ...,\n",
       "        [-0.0052,  0.0035,  0.0105,  ...,  0.0002,  0.0003, -0.0039],\n",
       "        [-0.0087,  0.0146, -0.0055,  ..., -0.0013,  0.0071,  0.0002],\n",
       "        [ 0.0127,  0.0075,  0.0069,  ..., -0.0075, -0.0007,  0.0066]],\n",
       "       device='cuda:0')"
      ]
     },
     "execution_count": 24,
     "metadata": {},
     "output_type": "execute_result"
    }
   ],
   "source": [
    "state_dict[\"layers.0.self_attn.q_proj.weight\"]"
   ]
  },
  {
   "cell_type": "code",
   "execution_count": null,
   "metadata": {},
   "outputs": [],
   "source": []
  }
 ],
 "metadata": {
  "kernelspec": {
   "display_name": "EAGLE",
   "language": "python",
   "name": "python3"
  },
  "language_info": {
   "codemirror_mode": {
    "name": "ipython",
    "version": 3
   },
   "file_extension": ".py",
   "mimetype": "text/x-python",
   "name": "python",
   "nbconvert_exporter": "python",
   "pygments_lexer": "ipython3",
   "version": "3.10.4"
  }
 },
 "nbformat": 4,
 "nbformat_minor": 2
}
